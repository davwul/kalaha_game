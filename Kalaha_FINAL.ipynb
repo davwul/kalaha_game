{
 "cells": [
  {
   "cell_type": "markdown",
   "id": "2ca4b243",
   "metadata": {},
   "source": [
    "# KALAHA"
   ]
  },
  {
   "cell_type": "code",
   "execution_count": 1,
   "id": "d18232cb",
   "metadata": {},
   "outputs": [],
   "source": [
    "b_black = \"\\033[1;30m\"\n",
    "black = \"\\033[0;30m\"\n",
    "green = '\\033[0;32m'"
   ]
  },
  {
   "cell_type": "code",
   "execution_count": 2,
   "id": "21758307",
   "metadata": {},
   "outputs": [],
   "source": [
    "board = [\"$\"] + [\"4\"] * 6 + [\"0\"] + [\"4\"] * 6 + [\"0\"]"
   ]
  },
  {
   "cell_type": "markdown",
   "id": "40645431",
   "metadata": {},
   "source": [
    "## `display_board()`"
   ]
  },
  {
   "cell_type": "code",
   "execution_count": 3,
   "id": "501ee9df",
   "metadata": {},
   "outputs": [],
   "source": [
    "from IPython.display import clear_output\n",
    "\n",
    "def display_board(board):\n",
    "    clear_output()\n",
    "    \n",
    "    print(f\"{b_black + ' '}                                                              \")\n",
    "    print(\"                                                              \")\n",
    "    print(\"                                                              \")        \n",
    "    print(\"       ◄  Direction      P 2's BOWLS                           \")\n",
    "    print(f\"{black + ' '}                                                             \")\n",
    "    print(\"                                                              \")\n",
    "    print(\"        _________13___12___11___10____9____8__________        \")\n",
    "    print(\"       |          ↓    ↓    ↓    ↓    ↓    ↓          |       \")\n",
    "    print(\"       |                                              |       \")\n",
    "    print(\"       |         ____________________________         |       \")\n",
    "    print(\"       |        | \"+ board[13] +\" ][ \"+ board[12] +\" ][ \"+ board[11] +\" ][ \"+ board[10] +\" ][ \"+ board[9] +\" ][ \"+ board[8] +\" |        |       \")\n",
    "    print(\"       |  _____ |                            | _____  |       \")\n",
    "    print(\"   P2  ► [  \"+ board[14] +\"  ]------------------------------[  \"+ board[7] +\"  ] ◄  P1   \")\n",
    "    print(\" NEST  |  ‾‾‾‾‾ |                            | ‾‾‾‾‾  |  NEST \")\n",
    "    print(\"       |        | \"+ board[1] +\" ][ \"+ board[2] +\" ][ \"+ board[3] +\" ][ \"+ board[4] +\" ][ \"+ board[5] +\" ][ \"+ board[6] +\" |        |       \")\n",
    "    print(\"       |         ‾‾‾‾‾‾‾‾‾‾‾‾‾‾‾‾‾‾‾‾‾‾‾‾‾‾‾‾         |       \")\n",
    "    print(\"       |                                              |       \")\n",
    "    print(\"       |          ↑    ↑    ↑    ↑    ↑    ↑          |       \")\n",
    "    print(\"        ‾‾‾‾‾‾‾‾‾ 1 ‾‾ 2 ‾‾ 3 ‾‾ 4 ‾‾ 5 ‾‾ 6 ‾‾‾‾‾‾‾‾‾        \")\n",
    "    print(f\"{b_black + ' '}                                                              \")\n",
    "    print(\"                                                     \")\n",
    "    print(\"                          P 1's BOWLS      Direction  ►                    \")\n",
    "    print(\"                                                              \")\n",
    "    print(\"                                                              \")\n",
    "    \n"
   ]
  },
  {
   "cell_type": "code",
   "execution_count": null,
   "id": "b5ec8b8a",
   "metadata": {},
   "outputs": [],
   "source": []
  },
  {
   "cell_type": "markdown",
   "id": "70112ec1",
   "metadata": {},
   "source": [
    "# `player_name()`"
   ]
  },
  {
   "cell_type": "code",
   "execution_count": 4,
   "id": "aed84b58",
   "metadata": {},
   "outputs": [],
   "source": [
    "display_name = []\n",
    "\n",
    "def player_name():\n",
    "    names = []\n",
    "    \n",
    "    player1_name = input(\"Enter the name for Player 1: \")\n",
    "    player2_name = input(\"Enter the name for Player 2: \")\n",
    "    \n",
    "    names.append(player1_name)\n",
    "    names.append(player2_name)\n",
    "    \n",
    "    display_name.append(player1_name)\n",
    "    display_name.append(player2_name)\n",
    "    \n",
    "    return names"
   ]
  },
  {
   "cell_type": "code",
   "execution_count": null,
   "id": "b596cf66",
   "metadata": {},
   "outputs": [],
   "source": []
  },
  {
   "cell_type": "markdown",
   "id": "58ff1fde",
   "metadata": {},
   "source": [
    "# `choose_first()`"
   ]
  },
  {
   "cell_type": "code",
   "execution_count": 5,
   "id": "ca05c775",
   "metadata": {},
   "outputs": [],
   "source": [
    "import random\n",
    "\n",
    "def choose_first():\n",
    "    \n",
    "    names = player_name()\n",
    "    \n",
    "    if random.randint(1, 2) == 1:\n",
    "        print(f\"\\n{black + 'Player 1:'} {names[0]} starts!\")\n",
    "        return \"Player 1\"\n",
    "    \n",
    "    else:\n",
    "        print(f\"\\n{black + 'Player 2:'} {names[1]} starts!\")        \n",
    "        return \"Player 2\""
   ]
  },
  {
   "cell_type": "code",
   "execution_count": null,
   "id": "01d9c2d9",
   "metadata": {},
   "outputs": [],
   "source": []
  },
  {
   "cell_type": "markdown",
   "id": "52c241ba",
   "metadata": {},
   "source": [
    "# `player_choice()`"
   ]
  },
  {
   "cell_type": "code",
   "execution_count": 6,
   "id": "1ddead54",
   "metadata": {},
   "outputs": [],
   "source": [
    "def player_choice():\n",
    "    position = 0\n",
    "    if turn == 'Player 1':\n",
    "        while position not in list(range(1,7)) or board[position] == '0':\n",
    "            try:\n",
    "                position = int(input(\"Choose Bowl 1-6: \"))\n",
    "            except ValueError:\n",
    "                print(\"\\nYou can only input numbers 1-6\")\n",
    "        return position\n",
    "    if turn == 'Player 2':\n",
    "        while position not in list(range(8,14)) or board[position] == '0':\n",
    "            try:\n",
    "                position = int(input(\"Choose Bowl 8-13: \"))\n",
    "            except ValueError:\n",
    "                print(\"\\nYou can only input numbers 8-13\")\n",
    "        return position"
   ]
  },
  {
   "cell_type": "code",
   "execution_count": null,
   "id": "f534935c",
   "metadata": {},
   "outputs": [],
   "source": []
  },
  {
   "cell_type": "markdown",
   "id": "4789a850",
   "metadata": {},
   "source": [
    "# `return_pit()`"
   ]
  },
  {
   "cell_type": "code",
   "execution_count": 7,
   "id": "ae4c0255",
   "metadata": {},
   "outputs": [],
   "source": [
    "def return_pit(position):\n",
    "    value = int(board[position])\n",
    "    return position, value"
   ]
  },
  {
   "cell_type": "code",
   "execution_count": null,
   "id": "881c0eee",
   "metadata": {},
   "outputs": [],
   "source": []
  },
  {
   "cell_type": "markdown",
   "id": "daa552a5",
   "metadata": {},
   "source": [
    "# `update_board()`"
   ]
  },
  {
   "cell_type": "code",
   "execution_count": 9,
   "id": "924b533a",
   "metadata": {},
   "outputs": [],
   "source": [
    "# UPDATE BOARD\n",
    "\n",
    "placeholder_lst_value = []\n",
    "placeholder_lst_index = []\n",
    "pos_val_dict = {\"pos\": 0, \"val\": 0}\n",
    "\n",
    "def update_board(position, value): # position=nummer på skål, value=antal kulor i skål\n",
    "    \"\"\"\n",
    "    Update board, rotates from index 14 to index 1\n",
    "    Moves the pebbles from bowl to bowl according from bowlnumber and pebbles in it\n",
    "    Player 1 skipps player 2's nest (index 14)\n",
    "    Player 2 skipps player 1's nest (index 7)\n",
    "    \n",
    "    Input: position of pit, value in pit\n",
    "    Output: updated board\n",
    "    \"\"\"\n",
    "    # variables to use in iteration and reset index\n",
    "    index = position + 1\n",
    "    reset_index = position\n",
    "    \n",
    "    # do iteration as many times as the value in the pit\n",
    "    for i in range(1, value + 1):\n",
    "\n",
    "        if index > 14:\n",
    "            index = 1\n",
    "        \n",
    "        # update board code:\n",
    "        if turn == \"Player 1\" and index == 14: \n",
    "            index = 1\n",
    "                \n",
    "        if turn == \"Player 2\" and index == 7: \n",
    "            index = 8\n",
    "                \n",
    "        board[index] = str(int(board[index]) + 1)\n",
    "        \n",
    "        # keeping track of updates code:\n",
    "        placeholder_lst_value.append(board[index])\n",
    "        placeholder_lst_index.append(index)\n",
    "        \n",
    "        # increase index for iteration in board-list:\n",
    "        index += 1\n",
    "\n",
    "    # append last updated pit/value to dict and clear place_holder_lists:\n",
    "    pos_val_dict[\"val\"] = int(placeholder_lst_value[-1])\n",
    "    pos_val_dict[\"pos\"] = placeholder_lst_index[-1]\n",
    "    placeholder_lst_value.clear()\n",
    "    placeholder_lst_index.clear()\n",
    "    \n",
    "    # changes starting pit to value \"0\"\n",
    "    board[reset_index] = \"0\""
   ]
  },
  {
   "cell_type": "code",
   "execution_count": null,
   "id": "90206edd",
   "metadata": {},
   "outputs": [],
   "source": []
  },
  {
   "cell_type": "markdown",
   "id": "e73e4454",
   "metadata": {},
   "source": [
    "# `check_play_again()`"
   ]
  },
  {
   "cell_type": "code",
   "execution_count": 10,
   "id": "341eba25",
   "metadata": {},
   "outputs": [],
   "source": [
    "def check_play_again(dct):\n",
    "    \n",
    "    if pos_val_dict[\"pos\"] == 7 and turn == \"Player 1\":\n",
    "        return True\n",
    "    if pos_val_dict[\"pos\"] == 14 and turn == \"Player 2\":\n",
    "        return True"
   ]
  },
  {
   "cell_type": "code",
   "execution_count": null,
   "id": "b228c78e",
   "metadata": {},
   "outputs": [],
   "source": []
  },
  {
   "cell_type": "markdown",
   "id": "22521fb9",
   "metadata": {},
   "source": [
    "# `check_steal()`"
   ]
  },
  {
   "cell_type": "code",
   "execution_count": 11,
   "id": "5be08c3d",
   "metadata": {},
   "outputs": [],
   "source": [
    "\n",
    "def check_steal(dct):\n",
    "    \n",
    "    if pos_val_dict[\"val\"] == 1 and pos_val_dict[\"pos\"] != 14 and pos_val_dict[\"pos\"] != 7:\n",
    "\n",
    "        steal_bowl_index = 13 + 1 - pos_val_dict[\"pos\"]\n",
    "        steal_bowl_value = board[steal_bowl_index]\n",
    "        \n",
    "        if turn == \"Player 1\" and pos_val_dict[\"pos\"] in list(range(1,7)):\n",
    "        \n",
    "            board[7] = str(int(board[7]) + int(steal_bowl_value) + 1)\n",
    "            \n",
    "            board[steal_bowl_index] = \"0\"\n",
    "            board[pos_val_dict[\"pos\"]] = \"0\"\n",
    "            \n",
    "        if turn == \"Player 2\" and pos_val_dict[\"pos\"] in list(range(8,14)):\n",
    "        \n",
    "            board[14] = str(int(board[14]) + int(steal_bowl_value) + 1)\n",
    "            \n",
    "            board[steal_bowl_index] = \"0\"\n",
    "            board[pos_val_dict[\"pos\"]] = \"0\""
   ]
  },
  {
   "cell_type": "code",
   "execution_count": null,
   "id": "4de0e34c",
   "metadata": {},
   "outputs": [],
   "source": []
  },
  {
   "cell_type": "markdown",
   "id": "5ad1fd17",
   "metadata": {},
   "source": [
    "# `check_board()`"
   ]
  },
  {
   "cell_type": "code",
   "execution_count": 12,
   "id": "695090bc",
   "metadata": {},
   "outputs": [],
   "source": [
    "\n",
    "# Check board if any bowl is empty\n",
    "\n",
    "# Calls calculate_win\n",
    "\n",
    "def check_board(arg):\n",
    "    \n",
    "    player1_list = []\n",
    "    player2_list = []\n",
    "    \n",
    "    \n",
    "    for i in board[1:7]:\n",
    "        player1_list.append(int(i))\n",
    "    \n",
    "    for i in board[8:14]:\n",
    "        player2_list.append(int(i))\n",
    "        \n",
    "    if sum(player1_list) == 0 or sum(player2_list) == 0:\n",
    "        return True\n",
    "    else:\n",
    "        return False"
   ]
  },
  {
   "cell_type": "code",
   "execution_count": null,
   "id": "81cb889e",
   "metadata": {},
   "outputs": [],
   "source": []
  },
  {
   "cell_type": "markdown",
   "id": "68b6a123",
   "metadata": {},
   "source": [
    "# `sum_remaining()`"
   ]
  },
  {
   "cell_type": "code",
   "execution_count": 13,
   "id": "9c70a05e",
   "metadata": {},
   "outputs": [],
   "source": [
    "# Run when check_board is True\n",
    "\n",
    "def sum_remaining(brd):\n",
    "    \n",
    "    player1_list = []\n",
    "    player2_list = []\n",
    "    \n",
    "    for i in range(1, 7):\n",
    "        player1_list.append(int(board[i]))\n",
    "        board[i] = \"0\"\n",
    "    \n",
    "    for i in range(8, 14):\n",
    "        player2_list.append(int(board[i]))\n",
    "        board[i] = \"0\"\n",
    "    \n",
    "    board[7] = str(int(board[7]) + sum(player1_list))\n",
    "    board[14] = str(int(board[14]) + sum(player2_list))"
   ]
  },
  {
   "cell_type": "code",
   "execution_count": null,
   "id": "4789e240",
   "metadata": {},
   "outputs": [],
   "source": []
  },
  {
   "cell_type": "markdown",
   "id": "185bbfb4",
   "metadata": {},
   "source": [
    "# `calculate_win()`"
   ]
  },
  {
   "cell_type": "code",
   "execution_count": 23,
   "id": "ba3a314b",
   "metadata": {},
   "outputs": [],
   "source": [
    "def calculate_win(brd):\n",
    "    \n",
    "    player1_score = int(board[7])\n",
    "    player2_score = int(board[14])\n",
    "    \n",
    "    if player1_score > player2_score:\n",
    "        \n",
    "        print(f\"CONGRATULATIONS {display_name[0]}! \\nPLAYER 1 WINS! \")\n",
    "        \n",
    "    elif player1_score < player2_score:\n",
    "        \n",
    "        print(f\"CONGRATULATIONS {display_name[1]}! \\nPLAYER 2 WINS! \")\n",
    "        \n",
    "    else:\n",
    "        print(f\"Game was a tie!\")\n",
    "    "
   ]
  },
  {
   "cell_type": "markdown",
   "id": "e86b5e24",
   "metadata": {},
   "source": [
    "# `replay()`"
   ]
  },
  {
   "cell_type": "code",
   "execution_count": 15,
   "id": "925c6173",
   "metadata": {},
   "outputs": [],
   "source": [
    "def replay():\n",
    "    \"\"\"\n",
    "    Asks player if replay\n",
    "    \n",
    "    input: \n",
    "    output: true if answer starts with \"y\", else returns false\n",
    "    \"\"\"\n",
    "    return input(\"\\nPlay again? ;) \\tYes or No? \").lower().startswith(\"y\")"
   ]
  },
  {
   "cell_type": "code",
   "execution_count": null,
   "id": "1b6a038e",
   "metadata": {},
   "outputs": [],
   "source": []
  },
  {
   "cell_type": "markdown",
   "id": "53d9271e",
   "metadata": {},
   "source": [
    "# GAME TIME"
   ]
  },
  {
   "cell_type": "code",
   "execution_count": 34,
   "id": "44dbfafa",
   "metadata": {},
   "outputs": [],
   "source": [
    "board = [\"$\", \"2\", \"1\", \"0\", \"3\", \"2\", \"1\", \"0\", \"2\", \"1\", \"0\", \"3\", \"2\", \"1\",\"0\"]"
   ]
  },
  {
   "cell_type": "code",
   "execution_count": 35,
   "id": "a961ded6",
   "metadata": {},
   "outputs": [
    {
     "name": "stdout",
     "output_type": "stream",
     "text": [
      "\u001b[1;30m                                                               \n",
      "                                                              \n",
      "                                                              \n",
      "       ◄  Direction      P 2's BOWLS                           \n",
      "\u001b[0;30m                                                              \n",
      "                                                              \n",
      "        _________13___12___11___10____9____8__________        \n",
      "       |          ↓    ↓    ↓    ↓    ↓    ↓          |       \n",
      "       |                                              |       \n",
      "       |         ____________________________         |       \n",
      "       |        | 4 ][ 4 ][ 4 ][ 4 ][ 4 ][ 4 |        |       \n",
      "       |  _____ |                            | _____  |       \n",
      "   P2  ► [  0  ]------------------------------[  0  ] ◄  P1   \n",
      " NEST  |  ‾‾‾‾‾ |                            | ‾‾‾‾‾  |  NEST \n",
      "       |        | 4 ][ 4 ][ 4 ][ 4 ][ 4 ][ 4 |        |       \n",
      "       |         ‾‾‾‾‾‾‾‾‾‾‾‾‾‾‾‾‾‾‾‾‾‾‾‾‾‾‾‾         |       \n",
      "       |                                              |       \n",
      "       |          ↑    ↑    ↑    ↑    ↑    ↑          |       \n",
      "        ‾‾‾‾‾‾‾‾‾ 1 ‾‾ 2 ‾‾ 3 ‾‾ 4 ‾‾ 5 ‾‾ 6 ‾‾‾‾‾‾‾‾‾        \n",
      "\u001b[1;30m                                                               \n",
      "                                                     \n",
      "                          P 1's BOWLS      Direction  ►                    \n",
      "                                                              \n",
      "                                                              \n"
     ]
    },
    {
     "ename": "KeyboardInterrupt",
     "evalue": "Interrupted by user",
     "output_type": "error",
     "traceback": [
      "\u001b[1;31m---------------------------------------------------------------------------\u001b[0m",
      "\u001b[1;31mKeyboardInterrupt\u001b[0m                         Traceback (most recent call last)",
      "Cell \u001b[1;32mIn[35], line 61\u001b[0m\n\u001b[0;32m     59\u001b[0m display_name\u001b[38;5;241m.\u001b[39mclear()\n\u001b[0;32m     60\u001b[0m display_board(board)\n\u001b[1;32m---> 61\u001b[0m turn \u001b[38;5;241m=\u001b[39m choose_first()\n\u001b[0;32m     63\u001b[0m \u001b[38;5;28;01mwhile\u001b[39;00m again:\n\u001b[0;32m     65\u001b[0m     \u001b[38;5;28;01mif\u001b[39;00m check_board(board) \u001b[38;5;241m==\u001b[39m \u001b[38;5;28;01mTrue\u001b[39;00m:\n",
      "Cell \u001b[1;32mIn[5], line 5\u001b[0m, in \u001b[0;36mchoose_first\u001b[1;34m()\u001b[0m\n\u001b[0;32m      3\u001b[0m \u001b[38;5;28;01mdef\u001b[39;00m \u001b[38;5;21mchoose_first\u001b[39m():\n\u001b[1;32m----> 5\u001b[0m     names \u001b[38;5;241m=\u001b[39m player_name()\n\u001b[0;32m      7\u001b[0m     \u001b[38;5;28;01mif\u001b[39;00m random\u001b[38;5;241m.\u001b[39mrandint(\u001b[38;5;241m1\u001b[39m, \u001b[38;5;241m2\u001b[39m) \u001b[38;5;241m==\u001b[39m \u001b[38;5;241m1\u001b[39m:\n\u001b[0;32m      8\u001b[0m         \u001b[38;5;28mprint\u001b[39m(\u001b[38;5;124mf\u001b[39m\u001b[38;5;124m\"\u001b[39m\u001b[38;5;130;01m\\n\u001b[39;00m\u001b[38;5;132;01m{\u001b[39;00mblack\u001b[38;5;250m \u001b[39m\u001b[38;5;241m+\u001b[39m\u001b[38;5;250m \u001b[39m\u001b[38;5;124m'\u001b[39m\u001b[38;5;124mPlayer 1:\u001b[39m\u001b[38;5;124m'\u001b[39m\u001b[38;5;132;01m}\u001b[39;00m\u001b[38;5;124m \u001b[39m\u001b[38;5;132;01m{\u001b[39;00mnames[\u001b[38;5;241m0\u001b[39m]\u001b[38;5;132;01m}\u001b[39;00m\u001b[38;5;124m starts!\u001b[39m\u001b[38;5;124m\"\u001b[39m)\n",
      "Cell \u001b[1;32mIn[4], line 6\u001b[0m, in \u001b[0;36mplayer_name\u001b[1;34m()\u001b[0m\n\u001b[0;32m      3\u001b[0m \u001b[38;5;28;01mdef\u001b[39;00m \u001b[38;5;21mplayer_name\u001b[39m():\n\u001b[0;32m      4\u001b[0m     names \u001b[38;5;241m=\u001b[39m []\n\u001b[1;32m----> 6\u001b[0m     player1_name \u001b[38;5;241m=\u001b[39m \u001b[38;5;28minput\u001b[39m(\u001b[38;5;124m\"\u001b[39m\u001b[38;5;124mEnter the name for Player 1: \u001b[39m\u001b[38;5;124m\"\u001b[39m)\n\u001b[0;32m      7\u001b[0m     player2_name \u001b[38;5;241m=\u001b[39m \u001b[38;5;28minput\u001b[39m(\u001b[38;5;124m\"\u001b[39m\u001b[38;5;124mEnter the name for Player 2: \u001b[39m\u001b[38;5;124m\"\u001b[39m)\n\u001b[0;32m      9\u001b[0m     names\u001b[38;5;241m.\u001b[39mappend(player1_name)\n",
      "File \u001b[1;32m~\\Anaconda3\\envs\\2023_env\\Lib\\site-packages\\ipykernel\\kernelbase.py:1202\u001b[0m, in \u001b[0;36mKernel.raw_input\u001b[1;34m(self, prompt)\u001b[0m\n\u001b[0;32m   1200\u001b[0m     msg \u001b[38;5;241m=\u001b[39m \u001b[38;5;124m\"\u001b[39m\u001b[38;5;124mraw_input was called, but this frontend does not support input requests.\u001b[39m\u001b[38;5;124m\"\u001b[39m\n\u001b[0;32m   1201\u001b[0m     \u001b[38;5;28;01mraise\u001b[39;00m StdinNotImplementedError(msg)\n\u001b[1;32m-> 1202\u001b[0m \u001b[38;5;28;01mreturn\u001b[39;00m \u001b[38;5;28mself\u001b[39m\u001b[38;5;241m.\u001b[39m_input_request(\n\u001b[0;32m   1203\u001b[0m     \u001b[38;5;28mstr\u001b[39m(prompt),\n\u001b[0;32m   1204\u001b[0m     \u001b[38;5;28mself\u001b[39m\u001b[38;5;241m.\u001b[39m_parent_ident[\u001b[38;5;124m\"\u001b[39m\u001b[38;5;124mshell\u001b[39m\u001b[38;5;124m\"\u001b[39m],\n\u001b[0;32m   1205\u001b[0m     \u001b[38;5;28mself\u001b[39m\u001b[38;5;241m.\u001b[39mget_parent(\u001b[38;5;124m\"\u001b[39m\u001b[38;5;124mshell\u001b[39m\u001b[38;5;124m\"\u001b[39m),\n\u001b[0;32m   1206\u001b[0m     password\u001b[38;5;241m=\u001b[39m\u001b[38;5;28;01mFalse\u001b[39;00m,\n\u001b[0;32m   1207\u001b[0m )\n",
      "File \u001b[1;32m~\\Anaconda3\\envs\\2023_env\\Lib\\site-packages\\ipykernel\\kernelbase.py:1245\u001b[0m, in \u001b[0;36mKernel._input_request\u001b[1;34m(self, prompt, ident, parent, password)\u001b[0m\n\u001b[0;32m   1242\u001b[0m \u001b[38;5;28;01mexcept\u001b[39;00m \u001b[38;5;167;01mKeyboardInterrupt\u001b[39;00m:\n\u001b[0;32m   1243\u001b[0m     \u001b[38;5;66;03m# re-raise KeyboardInterrupt, to truncate traceback\u001b[39;00m\n\u001b[0;32m   1244\u001b[0m     msg \u001b[38;5;241m=\u001b[39m \u001b[38;5;124m\"\u001b[39m\u001b[38;5;124mInterrupted by user\u001b[39m\u001b[38;5;124m\"\u001b[39m\n\u001b[1;32m-> 1245\u001b[0m     \u001b[38;5;28;01mraise\u001b[39;00m \u001b[38;5;167;01mKeyboardInterrupt\u001b[39;00m(msg) \u001b[38;5;28;01mfrom\u001b[39;00m \u001b[38;5;28;01mNone\u001b[39;00m\n\u001b[0;32m   1246\u001b[0m \u001b[38;5;28;01mexcept\u001b[39;00m \u001b[38;5;167;01mException\u001b[39;00m:\n\u001b[0;32m   1247\u001b[0m     \u001b[38;5;28mself\u001b[39m\u001b[38;5;241m.\u001b[39mlog\u001b[38;5;241m.\u001b[39mwarning(\u001b[38;5;124m\"\u001b[39m\u001b[38;5;124mInvalid Message:\u001b[39m\u001b[38;5;124m\"\u001b[39m, exc_info\u001b[38;5;241m=\u001b[39m\u001b[38;5;28;01mTrue\u001b[39;00m)\n",
      "\u001b[1;31mKeyboardInterrupt\u001b[0m: Interrupted by user"
     ]
    }
   ],
   "source": [
    "print(f\"\\n\\n{b_black + 'WELCOME TO KALAHA <3'}\")\n",
    "print(f\"\\n{black + '• You need to be 2 players to enter the magic world of Kalaha'} :)\\n\")\n",
    "print(f\"{green + '• PLAYER 1'}\")\n",
    "print(f\"\"\"{black + '  have'} the BOWLS numbered 1-6 placed in the BOTTOM of the board\n",
    "  and the NEST placed to the right\\n \"\"\")\n",
    "\n",
    "print(f\"{green + '• PLAYER 2'}\")\n",
    "print(f\"\"\"{black + '  have'} the BOWLS numbered 8-13 placed in the TOP of the board\n",
    "  and the NEST placed to the left \\n\\n \"\"\")\n",
    "\n",
    "print(f\"{b_black + 'HOW TO PLAY'}\")\n",
    "print(f\"\"\"{black + '‾‾‾‾‾‾‾‾‾‾‾'}\n",
    "• The purpose is to move as many pebbles as possible to your NEST\n",
    "\n",
    "• Select the number of the bowl you want to take pebbles from\n",
    "  !!! You are only allowed to select your own bowls and they must contain pebbles\n",
    "  \n",
    "• In a counter clock-wise order the pebbles are placed one at a time in each bowl \n",
    "  The pebbles are NEVER placed in your opponents NEST \\n\n",
    "\"\"\")\n",
    "\n",
    "print(f\"{b_black + 'RULES'}\")\n",
    "print(f\"\"\"{black + '‾‾‾‾‾'}\n",
    "• If the LAST PEBBLE lands in YOUR NEST you are allowed to PLAY AGAIN\n",
    "\n",
    "• If the last pepple lands in an EMPTY BOWL on YOUR SIDE of the board\n",
    "  you STEAL from the OPPONENTS BOWL across from yours\n",
    "  The pebble from your bowl and the pebbles from the opppnents bowl are added to your NEST\n",
    "  \n",
    "• When all bowls on one side of the board are EMPTY the GAME IS OVER\n",
    "  The remaining pebbles on the other side of the board are added to that sides nest\n",
    "  TO WIN you must have more pebbles in your nest than your opponent\n",
    "  \n",
    "• Kalaha randomly selects wich player to start the game\n",
    "\n",
    "\n",
    "© Copyright\n",
    "ALL RIGHTS RESERVED\n",
    "\n",
    "INGDACE™ Company\n",
    "Established 2024\n",
    "\"\"\")\n",
    "\n",
    "print(f\"\\n{b_black + 'HAVE FUN'}\\n\\n\\n\")\n",
    "\n",
    "play_game = input(\"Are you ready to play? \\n\\nEnter Yes or No: \")\n",
    "if play_game.lower()[0] == \"y\":\n",
    "    game_on = True\n",
    "else:\n",
    "    game_on = False\n",
    "\n",
    "\n",
    "\n",
    "\n",
    "game_on = True\n",
    "again = True\n",
    "\n",
    "while game_on:\n",
    "    display_name.clear()\n",
    "    display_board(board)\n",
    "    turn = choose_first()\n",
    "    \n",
    "    while again:\n",
    "        \n",
    "        if check_board(board) == True:\n",
    "                break\n",
    "        \n",
    "        \n",
    "        same_player = True\n",
    "\n",
    "        while same_player:\n",
    "\n",
    "            if check_board(board) == True or turn == \"Player 2\":\n",
    "                break \n",
    "                \n",
    "            print(f\"PLAYER 1 -\", green + display_name[0], \":\")\n",
    "            print(f\"{black + 'playing one round'}\")\n",
    "            turn = \"Player 1\"\n",
    "            position = player_choice()\n",
    "            bowl, value = return_pit(position)\n",
    "            update_board(bowl, value)\n",
    "            same_player = check_play_again(pos_val_dict)\n",
    "            check_steal(pos_val_dict)\n",
    "            display_board(board)\n",
    "\n",
    "\n",
    "        \n",
    "        same_player = True\n",
    "        while same_player:\n",
    "\n",
    "            if check_board(board) == True:\n",
    "                break\n",
    "            \n",
    "            print(f\"PLAYER 2 -\", green + display_name[1], \":\")\n",
    "            print(f\"{black + 'playing one round'}\")\n",
    "            turn = \"Player 2\"\n",
    "        \n",
    "            position = player_choice()\n",
    "            bowl, value = return_pit(position)\n",
    "            update_board(bowl, value)\n",
    "            same_player = check_play_again(pos_val_dict)\n",
    "            check_steal(pos_val_dict)\n",
    "            display_board(board)\n",
    "        \n",
    "        if same_player != True:\n",
    "            again = True\n",
    "            turn = \"Player 1\"\n",
    "        else:\n",
    "            break\n",
    "        \n",
    "    sum_remaining(board)\n",
    "    display_board(board)\n",
    "    calculate_win(board)\n",
    "    \n",
    "\n",
    "    board = [\"$\"] + [\"4\"] * 6 + [\"0\"] + [\"4\"] * 6 + [\"0\"]\n",
    "    \n",
    "    if not replay():\n",
    "        break\n"
   ]
  },
  {
   "cell_type": "code",
   "execution_count": null,
   "id": "ebbf5b16",
   "metadata": {},
   "outputs": [],
   "source": []
  }
 ],
 "metadata": {
  "kernelspec": {
   "display_name": "Python 3 (ipykernel)",
   "language": "python",
   "name": "python3"
  },
  "language_info": {
   "codemirror_mode": {
    "name": "ipython",
    "version": 3
   },
   "file_extension": ".py",
   "mimetype": "text/x-python",
   "name": "python",
   "nbconvert_exporter": "python",
   "pygments_lexer": "ipython3",
   "version": "3.11.4"
  }
 },
 "nbformat": 4,
 "nbformat_minor": 5
}
